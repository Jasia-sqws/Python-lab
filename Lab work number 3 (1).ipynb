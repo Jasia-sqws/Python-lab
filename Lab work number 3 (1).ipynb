{
 "cells": [
  {
   "cell_type": "code",
   "execution_count": 1,
   "id": "a8287aa4-6a9f-4676-9789-e0f0aa368776",
   "metadata": {},
   "outputs": [],
   "source": [
    "N = ord(\"Y\") %10 + 1"
   ]
  },
  {
   "cell_type": "code",
   "execution_count": 2,
   "id": "1a44abb1-0721-4246-8880-968849747d74",
   "metadata": {},
   "outputs": [
    {
     "name": "stdout",
     "output_type": "stream",
     "text": [
      "10\n"
     ]
    }
   ],
   "source": [
    "print(N)"
   ]
  },
  {
   "cell_type": "markdown",
   "id": "7f9eb258-1bb0-405e-b7b6-f820f255b38c",
   "metadata": {},
   "source": [
    "# *Норвегія*\n",
    "\n",
    "## **Інформація:**\n",
    "| НАЗВА                | ДАНІ                      |\n",
    "|----------------------|---------------------------|\n",
    "| **Площа**            | 323 802 км²               |\n",
    "| **Столиця**          |   Осло                    |\n",
    "| **Населення**        |  5 594 340 осіб           |\n",
    "| **Державний устрій** |  Конституційна монархія   |\n",
    "| **Рік заснування**   |  872 рік                  |\n",
    "\n",
    "\n",
    "## **Видатні персоналії**\n",
    "1. *Едвард Мунк* - найвідоміший представник норвезького експресіонізму. Його картина «Крик», стала візитівкою цього напрямку;\n",
    "2. *Ане Брун* - співачка та авторка пісень;\n",
    "3. *Фріджоф Нансен* - увійшов в історію як першопрохідник. Очолив першу команду, яка перетнула Гренландію в 1888 році.\n",
    "\n",
    "## **Пам’ятки культури та природи:**\n",
    "| Природні об’єкти   | Визначні пам’ятки                |\n",
    "|--------------------|----------------------------------|\n",
    "| Гейрангер фіорд    | Рунічний камінь Гранаволлен      |\n",
    "| Мис Нордкап        | Музей кораблів вікінгів          |\n",
    "| Стежка Бессегген   | Музей Фрама                      |\n",
    "\n",
    "<div style=\"border:2px solid purple; padding:10px; border-radius:10px;\">\n",
    "Назва країни походить від слів <b>«нордр» (норв. nordr) — північ</b> і <b>«вег» (норв. veg) — шлях</b>, тобто «Північний шлях».\n",
    "</div>\n",
    "\n",
    "## **Зображення**\n",
    "![Мальовниче місто у *Норвегії*](https://ggtravel.com.ua/wp-content/uploads/faf0a8cd06252a75778e96e52dfd2b18.jpg)\n",
    "\n",
    "## **Гіперпосилання**\n",
    "[Сторінка у Вікіпедії щодо *Норвегії*](https://uk.wikipedia.org/wiki/%D0%9D%D0%BE%D1%80%D0%B2%D0%B5%D0%B3%D1%96%D1%8F)\n"
   ]
  },
  {
   "cell_type": "code",
   "execution_count": 21,
   "id": "515a72c4-4a10-4a26-a6e4-ef9908dd7302",
   "metadata": {},
   "outputs": [
    {
     "data": {
      "image/svg+xml": [
       "<svg width=\"300\" height=\"200\">\n",
       "  <rect width=\"300\" height=\"200\" fill=\"#ba0c2f\"/>\n",
       "  <rect x=\"80\" width=\"40\" height=\"200\" fill=\"white\"/>\n",
       "  <rect y=\"80\" width=\"300\" height=\"40\" fill=\"white\"/>\n",
       "  <rect x=\"100\" width=\"20\" height=\"200\" fill=\"#00205b\"/>\n",
       "  <rect y=\"90\" width=\"300\" height=\"20\" fill=\"#00205b\"/>\n",
       "</svg>"
      ],
      "text/plain": [
       "<IPython.core.display.SVG object>"
      ]
     },
     "metadata": {},
     "output_type": "display_data"
    }
   ],
   "source": [
    "from IPython.display import display, SVG\n",
    "\n",
    "display(SVG('''\n",
    "<svg width=\"300\" height=\"200\">\n",
    "  <rect width=\"300\" height=\"200\" fill=\"#ba0c2f\"/>\n",
    "  <rect x=\"80\" width=\"40\" height=\"200\" fill=\"white\"/>\n",
    "  <rect y=\"80\" width=\"300\" height=\"40\" fill=\"white\"/>\n",
    "  <rect x=\"100\" width=\"20\" height=\"200\" fill=\"#00205b\"/>\n",
    "  <rect y=\"90\" width=\"300\" height=\"20\" fill=\"#00205b\"/>\n",
    "</svg>\n",
    "'''))"
   ]
  },
  {
   "cell_type": "code",
   "execution_count": 4,
   "id": "9a7707e7-14e0-4e40-a3cd-ffc1592f0221",
   "metadata": {},
   "outputs": [],
   "source": [
    "def task_10():\n",
    "    while True:\n",
    "        K = input(\"Введіть число K: \")\n",
    "        if K.isdigit() and int(K) > 0:\n",
    "            K = int(K)\n",
    "            break\n",
    "        else:\n",
    "            print(\"Помилка. Введене значення повинно бути числовим та додатнім\")\n",
    "        \n",
    "    for a in range(1, K):\n",
    "        for b in range(1, K):\n",
    "            if a*a + b*b == K:\n",
    "                print(f\"{a}^2+{b}^2={K}\")\n",
    "                return\n",
    "    print(f\"Число {K} не можна представити квадратами цілих чисел\")"
   ]
  },
  {
   "cell_type": "code",
   "execution_count": 5,
   "id": "7c5e3a93-ab5d-4138-901d-de9c7ef065ce",
   "metadata": {},
   "outputs": [
    {
     "name": "stdin",
     "output_type": "stream",
     "text": [
      "Введіть число K:  hello\n"
     ]
    },
    {
     "name": "stdout",
     "output_type": "stream",
     "text": [
      "Помилка. Введене значення повинно бути числовим та додатнім\n"
     ]
    },
    {
     "name": "stdin",
     "output_type": "stream",
     "text": [
      "Введіть число K:  -7\n"
     ]
    },
    {
     "name": "stdout",
     "output_type": "stream",
     "text": [
      "Помилка. Введене значення повинно бути числовим та додатнім\n"
     ]
    },
    {
     "name": "stdin",
     "output_type": "stream",
     "text": [
      "Введіть число K:  45\n"
     ]
    },
    {
     "name": "stdout",
     "output_type": "stream",
     "text": [
      "3^2+6^2=45\n"
     ]
    }
   ],
   "source": [
    "task_10()"
   ]
  },
  {
   "cell_type": "code",
   "execution_count": 6,
   "id": "f80f4123-da85-4be0-89dc-7913c2e99bae",
   "metadata": {},
   "outputs": [
    {
     "name": "stdin",
     "output_type": "stream",
     "text": [
      "Введіть число K:  21\n"
     ]
    },
    {
     "name": "stdout",
     "output_type": "stream",
     "text": [
      "Число 21 не можна представити квадратами цілих чисел\n"
     ]
    }
   ],
   "source": [
    "task_10()"
   ]
  },
  {
   "cell_type": "code",
   "execution_count": null,
   "id": "c4ead4b1-c4e1-403a-a0c9-5b900c10a7e9",
   "metadata": {},
   "outputs": [],
   "source": []
  }
 ],
 "metadata": {
  "kernelspec": {
   "display_name": "Python 3 (ipykernel)",
   "language": "python",
   "name": "python3"
  },
  "language_info": {
   "codemirror_mode": {
    "name": "ipython",
    "version": 3
   },
   "file_extension": ".py",
   "mimetype": "text/x-python",
   "name": "python",
   "nbconvert_exporter": "python",
   "pygments_lexer": "ipython3",
   "version": "3.12.1"
  }
 },
 "nbformat": 4,
 "nbformat_minor": 5
}
