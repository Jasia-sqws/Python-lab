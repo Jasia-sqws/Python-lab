{
 "cells": [
  {
   "cell_type": "code",
   "execution_count": 4,
   "id": "f98c7399-1966-4563-93c6-b19a3d184698",
   "metadata": {},
   "outputs": [],
   "source": [
    "import numpy as np"
   ]
  },
  {
   "cell_type": "code",
   "execution_count": 1,
   "id": "5124a11f-5b95-47c2-b6b1-0fe63fcdf4f1",
   "metadata": {},
   "outputs": [
    {
     "name": "stdout",
     "output_type": "stream",
     "text": [
      "15\n"
     ]
    }
   ],
   "source": [
    "N = ord(\"Y\") % 15 + 1\n",
    "print(N)"
   ]
  },
  {
   "cell_type": "markdown",
   "id": "e625f1ba-083d-4aca-bfa9-9b728e06a93e",
   "metadata": {},
   "source": [
    "# Task 1\n",
    "\n",
    "    Виконати набір вправ. Всі завдання виконати 2 способами: \n",
    "    а) з використанням універсальних функцій бібліотеки NumPy. \n",
    "    b) за допомогою ітеративних конструкцій (з використанням циклів, спискових включень тощо). "
   ]
  },
  {
   "cell_type": "markdown",
   "id": "54775d22-1e4c-4710-b69a-9b3470ddecba",
   "metadata": {},
   "source": [
    "## **Вправа 1**\n",
    "Вводиться число n. Вивести масив розміру n×n, в якому по діагоналі йдуть числа від 1 до n, а інші числа дорівнюють 0. "
   ]
  },
  {
   "cell_type": "code",
   "execution_count": 5,
   "id": "1508a4cd-f3f1-4216-ac34-9fb79f6ab7dd",
   "metadata": {},
   "outputs": [],
   "source": [
    "import time"
   ]
  },
  {
   "cell_type": "code",
   "execution_count": 6,
   "id": "8f4d629d-8991-41e8-8152-6bd0317d93b7",
   "metadata": {},
   "outputs": [],
   "source": [
    "def task_1():\n",
    "    n = int(input(\"n: \"))\n",
    "    a = time.time()\n",
    "    \n",
    "    matrix = np.zeros((n, n), dtype=int)\n",
    "    for i in range(n):\n",
    "        matrix[i][i] = i + 1\n",
    "    \n",
    "    b = time.time()\n",
    "    \n",
    "    print(\"Час виконання (numpy): \"+str(b-a)+\"sec\")\n",
    "    print(matrix)"
   ]
  },
  {
   "cell_type": "code",
   "execution_count": 7,
   "id": "6c517dd1-8c8a-428d-b015-5c2055983cce",
   "metadata": {},
   "outputs": [
    {
     "name": "stdin",
     "output_type": "stream",
     "text": [
      "n:  5\n"
     ]
    },
    {
     "name": "stdout",
     "output_type": "stream",
     "text": [
      "Час виконання (numpy): 0.0sec\n",
      "[[1 0 0 0 0]\n",
      " [0 2 0 0 0]\n",
      " [0 0 3 0 0]\n",
      " [0 0 0 4 0]\n",
      " [0 0 0 0 5]]\n"
     ]
    }
   ],
   "source": [
    "task_1()"
   ]
  },
  {
   "cell_type": "code",
   "execution_count": 8,
   "id": "656b6836-4ac0-4a5b-94a1-103ce5ae0101",
   "metadata": {},
   "outputs": [],
   "source": [
    "def task_1_2():\n",
    "    n = int(input(\"n: \"))\n",
    "    a = time.time()\n",
    "    \n",
    "    matrix = []                              \n",
    "    for i in range(n):\n",
    "        row = [0] * n          \n",
    "        row[i] = i + 1         \n",
    "        matrix = matrix + [row] \n",
    "\n",
    "    for row in matrix:\n",
    "        print(row)\n",
    "    \n",
    "    b = time.time()\n",
    "    \n",
    "    print(\"Час виконання (ітеративні конструкції): \"+str(b-a)+\"sec\")"
   ]
  },
  {
   "cell_type": "code",
   "execution_count": 9,
   "id": "8a265d58-9ba0-4cfc-bfb1-b1df2007b754",
   "metadata": {},
   "outputs": [
    {
     "name": "stdin",
     "output_type": "stream",
     "text": [
      "n:  5\n"
     ]
    },
    {
     "name": "stdout",
     "output_type": "stream",
     "text": [
      "[1, 0, 0, 0, 0]\n",
      "[0, 2, 0, 0, 0]\n",
      "[0, 0, 3, 0, 0]\n",
      "[0, 0, 0, 4, 0]\n",
      "[0, 0, 0, 0, 5]\n",
      "Час виконання (ітеративні конструкції): 0.0sec\n"
     ]
    }
   ],
   "source": [
    "task_1_2()"
   ]
  },
  {
   "cell_type": "markdown",
   "id": "966b3575-8577-4b3e-a128-b903514cbb61",
   "metadata": {},
   "source": [
    "## **Вправа 3** \n",
    "Вводяться 4 числа n, m, r, c. Вивести масив розміру n×m, в якому в кожному рядку з номером r і в кожному стовпчику з номером c стоять 0, а інші елементи дорівнюють 1. "
   ]
  },
  {
   "cell_type": "code",
   "execution_count": 10,
   "id": "96fa3514-c6a0-44c6-adbf-58cc9d99eb15",
   "metadata": {},
   "outputs": [],
   "source": [
    "def task_3():\n",
    "    n = int(input(\"n: \"))\n",
    "    m = int(input(\"m: \"))\n",
    "    r = int(input(\"r: \"))\n",
    "    c = int(input(\"c: \"))\n",
    "\n",
    "    a = time.time()\n",
    "    \n",
    "    matrix = np.ones((n, m), dtype=int)\n",
    "\n",
    "    for i in range(n):\n",
    "        for j in range(m):\n",
    "            if (i % r == 0) or (j % c == 0):\n",
    "                matrix[i, j] = 0\n",
    "        \n",
    "    b = time.time()\n",
    "    print(\"Час виконання (numpy): \"+str(b-a)+\"sec\")\n",
    "    print(matrix)"
   ]
  },
  {
   "cell_type": "code",
   "execution_count": 11,
   "id": "895f9016-b14b-4e23-81d3-2e609c7a986a",
   "metadata": {},
   "outputs": [
    {
     "name": "stdin",
     "output_type": "stream",
     "text": [
      "n:  6\n",
      "m:  7\n",
      "r:  2\n",
      "c:  3\n"
     ]
    },
    {
     "name": "stdout",
     "output_type": "stream",
     "text": [
      "Час виконання (numpy): 0.0sec\n",
      "[[0 0 0 0 0 0 0]\n",
      " [0 1 1 0 1 1 0]\n",
      " [0 0 0 0 0 0 0]\n",
      " [0 1 1 0 1 1 0]\n",
      " [0 0 0 0 0 0 0]\n",
      " [0 1 1 0 1 1 0]]\n"
     ]
    }
   ],
   "source": [
    "task_3()"
   ]
  },
  {
   "cell_type": "code",
   "execution_count": 12,
   "id": "ca029641-8c14-4582-ad5a-8ff690fb1e14",
   "metadata": {},
   "outputs": [],
   "source": [
    "def task_3_2():\n",
    "    n = int(input(\"n: \"))\n",
    "    m = int(input(\"m: \"))\n",
    "    r = int(input(\"r: \"))\n",
    "    c = int(input(\"c: \"))\n",
    "    a = time.time()\n",
    "\n",
    "    matrix = []\n",
    "    for i in range(n):\n",
    "        row = []\n",
    "        for j in range(m):\n",
    "            if i % r == 0 or j % c == 0:\n",
    "                row += [0]  \n",
    "            else:\n",
    "                row += [1]  \n",
    "        matrix += [row]      \n",
    "\n",
    "    b = time.time()\n",
    "    print(\"Час виконання (ітеративні конструкції): \"+str(b-a)+\"sec\")\n",
    "\n",
    "    for row in matrix:\n",
    "        print(row)"
   ]
  },
  {
   "cell_type": "code",
   "execution_count": 13,
   "id": "59d22812-df8e-4d7d-9115-a86857053bb1",
   "metadata": {},
   "outputs": [
    {
     "name": "stdin",
     "output_type": "stream",
     "text": [
      "n:  6\n",
      "m:  7\n",
      "r:  2\n",
      "c:  3\n"
     ]
    },
    {
     "name": "stdout",
     "output_type": "stream",
     "text": [
      "Час виконання (ітеративні конструкції): 0.0sec\n",
      "[0, 0, 0, 0, 0, 0, 0]\n",
      "[0, 1, 1, 0, 1, 1, 0]\n",
      "[0, 0, 0, 0, 0, 0, 0]\n",
      "[0, 1, 1, 0, 1, 1, 0]\n",
      "[0, 0, 0, 0, 0, 0, 0]\n",
      "[0, 1, 1, 0, 1, 1, 0]\n"
     ]
    }
   ],
   "source": [
    "task_3_2()"
   ]
  },
  {
   "cell_type": "markdown",
   "id": "5088da92-cb31-4720-a93e-722a5eed3ab5",
   "metadata": {},
   "source": [
    "## **Вправа 6**\n",
    "З клавіатури вводиться масив. Замінити всі ненульові елементи на –1. "
   ]
  },
  {
   "cell_type": "code",
   "execution_count": 20,
   "id": "65580261-c03b-4e6c-a7ca-185a4025fca2",
   "metadata": {},
   "outputs": [],
   "source": [
    "def task_6():\n",
    "    n = input(\"Введіть елементи масиву: \")\n",
    "    a = time.time()\n",
    "    array = []\n",
    "\n",
    "    for i in n.split():\n",
    "        array.append(int(i)) \n",
    "\n",
    "    arr = np.array(array)\n",
    "    arr = np.where(arr != 0, -1, arr)\n",
    "\n",
    "    b = time.time()\n",
    "    print(\"Час виконання (numpy): \"+str(b-a)+\"sec\")\n",
    "    print(\"Масив після заміни:\", arr)"
   ]
  },
  {
   "cell_type": "code",
   "execution_count": 21,
   "id": "bad5e3d5-c4c2-4470-87ce-23fbe67957b3",
   "metadata": {},
   "outputs": [
    {
     "name": "stdin",
     "output_type": "stream",
     "text": [
      "Введіть елементи масиву:  3 4 0 6 5 0 3 0 4\n"
     ]
    },
    {
     "name": "stdout",
     "output_type": "stream",
     "text": [
      "Час виконання (numpy): 0.0sec\n",
      "Масив після заміни: [-1 -1  0 -1 -1  0 -1  0 -1]\n"
     ]
    }
   ],
   "source": [
    "task_6()"
   ]
  },
  {
   "cell_type": "code",
   "execution_count": 22,
   "id": "444f4d90-cdfe-4c4e-9e0d-556321b5254e",
   "metadata": {},
   "outputs": [],
   "source": [
    "def task_6_2():\n",
    "    n = input(\"Введіть елементи масиву: \")\n",
    "    a = time.time()\n",
    "    \n",
    "    array = []\n",
    "    for i in n.split():\n",
    "        array.append(int(i))\n",
    "\n",
    "    for i in range(len(array)):\n",
    "        if array[i] != 0:\n",
    "            array[i] = -1    \n",
    "            \n",
    "    b = time.time()\n",
    "    print(\"Час виконання (ітеративні конструкції): \"+str(b-a)+\"sec\")\n",
    "    print(array)"
   ]
  },
  {
   "cell_type": "code",
   "execution_count": 23,
   "id": "b67dec45-bca7-4ccf-9889-5b1a27575511",
   "metadata": {},
   "outputs": [
    {
     "name": "stdin",
     "output_type": "stream",
     "text": [
      "Введіть елементи масиву:  3 4 0 6 5 0 3 0 4\n"
     ]
    },
    {
     "name": "stdout",
     "output_type": "stream",
     "text": [
      "Час виконання (ітеративні конструкції): 0.0sec\n",
      "[-1, -1, 0, -1, -1, 0, -1, 0, -1]\n"
     ]
    }
   ],
   "source": [
    "task_6_2()"
   ]
  },
  {
   "cell_type": "markdown",
   "id": "6a0a98c9-baf6-4ac9-8bf7-020e33fa92e6",
   "metadata": {},
   "source": [
    "## **Вправа 8**\n",
    "З клавіатури вводиться масив. Підрахувати в ньому кількість нульових та ненульових елементів. "
   ]
  },
  {
   "cell_type": "code",
   "execution_count": 24,
   "id": "b5064f1e-0f4d-4ced-b64d-e030e4930a26",
   "metadata": {},
   "outputs": [],
   "source": [
    "def task_8_2():\n",
    "    n = input(\"Введіть значення: \")\n",
    "    a = time.time()\n",
    "\n",
    "    count_zeros = 0\n",
    "    count_numbers = 0\n",
    "    \n",
    "    for i in n:\n",
    "        if i != ' ':\n",
    "            if i == '0':\n",
    "                count_zeros += 1\n",
    "            else:\n",
    "                count_numbers += 1\n",
    "                \n",
    "    b = time.time()\n",
    "    print(\"Нулів: \", count_zeros)\n",
    "    print(\"Не нулів: \", count_numbers)\n",
    "    print(\"Час виконання (ітеративні конструкції): \"+str(b-a)+\"sec\")"
   ]
  },
  {
   "cell_type": "code",
   "execution_count": 25,
   "id": "c0f50038-3a4e-433a-b1b3-34d6e6938216",
   "metadata": {},
   "outputs": [
    {
     "name": "stdin",
     "output_type": "stream",
     "text": [
      "Введіть значення:  3 4 0 9 8 2 4 0 8 4 0\n"
     ]
    },
    {
     "name": "stdout",
     "output_type": "stream",
     "text": [
      "Нулів:  3\n",
      "Не нулів:  8\n",
      "Час виконання (ітеративні конструкції): 0.0sec\n"
     ]
    }
   ],
   "source": [
    "task_8_2()"
   ]
  },
  {
   "cell_type": "code",
   "execution_count": 32,
   "id": "722f15a3-1875-4a44-9182-52696ccbe818",
   "metadata": {},
   "outputs": [],
   "source": [
    "def task_8():\n",
    "    n = input(\"Введіть числа через пробіл: \")\n",
    "    a = time.time()\n",
    "    array = n.split()\n",
    "    \n",
    "    arr = []\n",
    "    for num in array:\n",
    "        arr.append(int(num))\n",
    "    \n",
    "    k = np.array(arr)\n",
    "    zero_count = np.count_nonzero(k == 0)\n",
    "    nonzero_count = np.count_nonzero(k)\n",
    "\n",
    "    b = time.time()\n",
    "    print(\"Нулів: \", zero_count)\n",
    "    print(\"Не нулів: \", nonzero_count)\n",
    "    print(\"Час виконання (numpy): \"+str(b-a)+\"sec\")"
   ]
  },
  {
   "cell_type": "code",
   "execution_count": 33,
   "id": "f03899c4-5974-4031-b456-084594a2b868",
   "metadata": {},
   "outputs": [
    {
     "name": "stdin",
     "output_type": "stream",
     "text": [
      "Введіть числа через пробіл:  3 4 0 9 8 2 4 0 8 4 0\n"
     ]
    },
    {
     "name": "stdout",
     "output_type": "stream",
     "text": [
      "Нулів:  3\n",
      "Не нулів:  8\n",
      "Час виконання (numpy): 0.0sec\n"
     ]
    }
   ],
   "source": [
    "task_8()"
   ]
  },
  {
   "cell_type": "markdown",
   "id": "b45e825e-d73a-4e71-853e-f9b47b196007",
   "metadata": {},
   "source": [
    "## **Вправа 13**\n",
    "Розмістити на полі 8×8 нулі та одиниці в шахматному порядку, використовуючи функцію повторення (*). "
   ]
  },
  {
   "cell_type": "code",
   "execution_count": 34,
   "id": "a90a2492-bffa-4de5-a310-97c116e1cec7",
   "metadata": {},
   "outputs": [],
   "source": [
    "def task_13():\n",
    "    a = time.time()\n",
    "    row1 = np.array([0, 1] * 4)  \n",
    "    row2 = np.array([1, 0] * 4)  \n",
    "\n",
    "    k = np.array([row1, row2] * 4)  \n",
    "    b = time.time()\n",
    "    print(k)\n",
    "    print(\"Час виконання (numpy): \"+str(b-a)+\"sec\")"
   ]
  },
  {
   "cell_type": "code",
   "execution_count": 35,
   "id": "8148b7cf-0c1e-4859-b391-e1da68ce7e52",
   "metadata": {},
   "outputs": [
    {
     "name": "stdout",
     "output_type": "stream",
     "text": [
      "[[0 1 0 1 0 1 0 1]\n",
      " [1 0 1 0 1 0 1 0]\n",
      " [0 1 0 1 0 1 0 1]\n",
      " [1 0 1 0 1 0 1 0]\n",
      " [0 1 0 1 0 1 0 1]\n",
      " [1 0 1 0 1 0 1 0]\n",
      " [0 1 0 1 0 1 0 1]\n",
      " [1 0 1 0 1 0 1 0]]\n",
      "Час виконання (numpy): 0.0sec\n"
     ]
    }
   ],
   "source": [
    "task_13()"
   ]
  },
  {
   "cell_type": "code",
   "execution_count": 36,
   "id": "54d56543-baa7-43d2-a1cc-778cfb1c874e",
   "metadata": {},
   "outputs": [],
   "source": [
    "def task_13_2():\n",
    "    a = time.time()\n",
    "    for i in range(8): \n",
    "        if i % 2 == 0:\n",
    "            print([0, 1] * 4)  \n",
    "        else:\n",
    "            print([1, 0] * 4)  \n",
    "            \n",
    "    b = time.time()\n",
    "    print(\"Час виконання (ітеративні конструкції): \"+str(b-a)+\"sec\")"
   ]
  },
  {
   "cell_type": "code",
   "execution_count": 37,
   "id": "bfc287bf-728d-4e8e-bf98-d99e13836aa2",
   "metadata": {},
   "outputs": [
    {
     "name": "stdout",
     "output_type": "stream",
     "text": [
      "[0, 1, 0, 1, 0, 1, 0, 1]\n",
      "[1, 0, 1, 0, 1, 0, 1, 0]\n",
      "[0, 1, 0, 1, 0, 1, 0, 1]\n",
      "[1, 0, 1, 0, 1, 0, 1, 0]\n",
      "[0, 1, 0, 1, 0, 1, 0, 1]\n",
      "[1, 0, 1, 0, 1, 0, 1, 0]\n",
      "[0, 1, 0, 1, 0, 1, 0, 1]\n",
      "[1, 0, 1, 0, 1, 0, 1, 0]\n",
      "Час виконання (ітеративні конструкції): 0.0sec\n"
     ]
    }
   ],
   "source": [
    "task_13_2()"
   ]
  },
  {
   "cell_type": "markdown",
   "id": "fadfb1dc-2f84-4f5e-8392-7818fc7d08a3",
   "metadata": {},
   "source": [
    "## **Вправа 15**\n",
    "Заповнити парні стовпчикі матриці розміром n×n одиницями, а непарні – нулями."
   ]
  },
  {
   "cell_type": "code",
   "execution_count": 38,
   "id": "5aa313cf-19eb-4731-94b9-5272d3d2403a",
   "metadata": {},
   "outputs": [],
   "source": [
    "def task_15():\n",
    "    n = int(input(\"Введіть n: \"))\n",
    "    a = time.time()\n",
    "    \n",
    "    m = np.zeros((n, n), dtype=int)\n",
    "    \n",
    "    m[:, 1::2] = 1\n",
    "    \n",
    "    print(m)\n",
    "    b = time.time()\n",
    "    print(\"Час виконання (numpy): \"+str(b-a)+\"sec\")"
   ]
  },
  {
   "cell_type": "code",
   "execution_count": 39,
   "id": "33eeea51-46fe-46f9-b3ca-ff77e9c21d3e",
   "metadata": {},
   "outputs": [
    {
     "name": "stdin",
     "output_type": "stream",
     "text": [
      "Введіть n:  5\n"
     ]
    },
    {
     "name": "stdout",
     "output_type": "stream",
     "text": [
      "[[0 1 0 1 0]\n",
      " [0 1 0 1 0]\n",
      " [0 1 0 1 0]\n",
      " [0 1 0 1 0]\n",
      " [0 1 0 1 0]]\n",
      "Час виконання (numpy): 0.0sec\n"
     ]
    }
   ],
   "source": [
    "task_15()"
   ]
  },
  {
   "cell_type": "code",
   "execution_count": 40,
   "id": "918d13df-2741-4956-a387-319507e4791c",
   "metadata": {},
   "outputs": [],
   "source": [
    "def task_15_2():\n",
    "    n = int(input(\"Введіть n: \"))\n",
    "    a = time.time()\n",
    "    matrix = []\n",
    "\n",
    "    for i in range(n):\n",
    "        row = []\n",
    "        for j in range(n):\n",
    "            if j % 2 == 1:  \n",
    "                row.append(1)\n",
    "            else:          \n",
    "                row.append(0)\n",
    "        matrix.append(row)\n",
    "\n",
    "    for row in matrix:\n",
    "        print(row)\n",
    "\n",
    "    b = time.time()\n",
    "    print(\"Час виконання (ітеративні конструкції): \"+str(b-a)+\"sec\")"
   ]
  },
  {
   "cell_type": "code",
   "execution_count": 41,
   "id": "eddde14e-9540-43a9-9b5c-b75a1e3c2443",
   "metadata": {},
   "outputs": [
    {
     "name": "stdin",
     "output_type": "stream",
     "text": [
      "Введіть n:  5\n"
     ]
    },
    {
     "name": "stdout",
     "output_type": "stream",
     "text": [
      "[0, 1, 0, 1, 0]\n",
      "[0, 1, 0, 1, 0]\n",
      "[0, 1, 0, 1, 0]\n",
      "[0, 1, 0, 1, 0]\n",
      "[0, 1, 0, 1, 0]\n",
      "Час виконання (ітеративні конструкції): 0.0sec\n"
     ]
    }
   ],
   "source": [
    "task_15_2()"
   ]
  },
  {
   "cell_type": "markdown",
   "id": "d2f61457-e039-42de-900f-3bc2d313935e",
   "metadata": {},
   "source": [
    "## **Вправа 16**\n",
    "Заповнити вектор значеннями від 0 до n. Всі значення, що більші за n/4 та менші за 3n/4 замінити нулями. "
   ]
  },
  {
   "cell_type": "code",
   "execution_count": 42,
   "id": "8ab9ba3a-0dbf-4ad5-8906-dad98c02a483",
   "metadata": {},
   "outputs": [],
   "source": [
    "def task_16():\n",
    "    n = int(input(\"Введіть n:\"))\n",
    "    a = time.time()\n",
    "    vector = np.arange(n + 1)\n",
    "\n",
    "    vector = np.where((vector > n/4) & (vector < 3*n/4), 0, vector)\n",
    "    print(vector)\n",
    "    b = time.time()\n",
    "    print(\"Час виконання (numpy): \"+str(b-a)+\"sec\")"
   ]
  },
  {
   "cell_type": "code",
   "execution_count": 43,
   "id": "4af29570-a210-4eba-96c0-77694d83fd98",
   "metadata": {},
   "outputs": [
    {
     "name": "stdin",
     "output_type": "stream",
     "text": [
      "Введіть n: 10\n"
     ]
    },
    {
     "name": "stdout",
     "output_type": "stream",
     "text": [
      "[ 0  1  2  0  0  0  0  0  8  9 10]\n",
      "Час виконання (numpy): 0.0003733634948730469sec\n"
     ]
    }
   ],
   "source": [
    "task_16()"
   ]
  },
  {
   "cell_type": "code",
   "execution_count": 44,
   "id": "6b4959df-be09-492d-a614-3128cf253d4a",
   "metadata": {},
   "outputs": [],
   "source": [
    "def task_16_2():\n",
    "    n = int(input(\"Введіть значення: \"))\n",
    "    a = time.time()\n",
    "    vector = []\n",
    "\n",
    "    for i in range(n + 1):\n",
    "        vector.append(i)\n",
    "\n",
    "    for i in range(n):\n",
    "        if n/4 < vector[i] < 3*n/4:\n",
    "            vector[i] = 0\n",
    "\n",
    "    print(vector)\n",
    "    b = time.time()\n",
    "    print(\"Час виконання (ітеративні конструкції): \"+str(b-a)+\"sec\")"
   ]
  },
  {
   "cell_type": "code",
   "execution_count": 45,
   "id": "10b836ad-c009-4856-9c18-053ea7b81eb8",
   "metadata": {},
   "outputs": [
    {
     "name": "stdin",
     "output_type": "stream",
     "text": [
      "Введіть значення:  10\n"
     ]
    },
    {
     "name": "stdout",
     "output_type": "stream",
     "text": [
      "[0, 1, 2, 0, 0, 0, 0, 0, 8, 9, 10]\n",
      "Час виконання (ітеративні конструкції): 0.0sec\n"
     ]
    }
   ],
   "source": [
    "task_16_2()"
   ]
  },
  {
   "cell_type": "markdown",
   "id": "b197ab04-d86c-4e14-84f4-4f1ce6109a33",
   "metadata": {},
   "source": [
    "## **Вправа 18**\n",
    "Згенерувати вектор з n випадкових чисел в діапазоні від 0 до 99. Визначити кількість унікальних чисел в послідовності. "
   ]
  },
  {
   "cell_type": "code",
   "execution_count": 46,
   "id": "2f98ba8f-3717-469f-bec4-4ac0497c27c9",
   "metadata": {},
   "outputs": [],
   "source": [
    "import random\n",
    "\n",
    "def task_18():\n",
    "    n = int(input(\"Введіть значення: \"))\n",
    "    a = time.time()\n",
    "    vector = np.random.randint(0, 99, n)\n",
    "\n",
    "    unique = []  \n",
    "\n",
    "    for i in vector:\n",
    "        if np.count_nonzero(vector == i) == 1:\n",
    "            unique.append(i)\n",
    "\n",
    "    print(\"В послідовності\", vector,f\"- {len(unique)} унікальних чисел\")\n",
    "    b = time.time()\n",
    "    print(\"Час виконання (numpy): \"+str(b-a)+\"sec\")"
   ]
  },
  {
   "cell_type": "code",
   "execution_count": 46,
   "id": "ab2bace7-1267-4438-9089-f2990e17bfc6",
   "metadata": {},
   "outputs": [
    {
     "name": "stdin",
     "output_type": "stream",
     "text": [
      "Введіть значення:  30\n"
     ]
    },
    {
     "name": "stdout",
     "output_type": "stream",
     "text": [
      "В послідовності [30 81 27 14 11 51 87 56 19  8 97 86 90 83 75 48 21 78 91 51 31 37 14 48\n",
      "  6 80 69 37 82 17] - 22 унікальних чисел\n",
      "Час виконання (numpy): 0.0018434524536132812sec\n"
     ]
    }
   ],
   "source": [
    "task_18()"
   ]
  },
  {
   "cell_type": "code",
   "execution_count": 51,
   "id": "9de83102-505f-453e-bd46-1963d353ceb9",
   "metadata": {},
   "outputs": [],
   "source": [
    "def task_18_2():\n",
    "    n = int(input(\"Введіть значення: \"))\n",
    "    a = time.time()\n",
    "    \n",
    "    arr = []\n",
    "    for i in range(n):\n",
    "        arr.append(random.randint(0, 99))\n",
    "\n",
    "    vector = []\n",
    "    for i in range(len(arr)):\n",
    "        if arr.count(arr[i]) == 1:\n",
    "            vector.append(arr[i])\n",
    "\n",
    "    print(\"В послідовності\", vector,f\"- {len(vector)} унікальних чисел\")\n",
    "    b = time.time()\n",
    "    print(\"Час виконання (ітеративні конструкції): \"+str(b-a)+\"sec\")"
   ]
  },
  {
   "cell_type": "code",
   "execution_count": 52,
   "id": "be079ec5-bc48-4f1e-bca1-acfc8686c0f6",
   "metadata": {},
   "outputs": [
    {
     "name": "stdin",
     "output_type": "stream",
     "text": [
      "Введіть значення:  30\n"
     ]
    },
    {
     "name": "stdout",
     "output_type": "stream",
     "text": [
      "В послідовності [13, 45, 72, 73, 97, 42, 19, 93, 68, 41, 76, 0, 64, 48, 46, 67, 78, 44, 62, 55, 27, 30, 80, 12, 5] - 25 унікальних чисел\n",
      "Час виконання (ітеративні конструкції): 0.0012645721435546875sec\n"
     ]
    }
   ],
   "source": [
    "task_18_2()"
   ]
  },
  {
   "cell_type": "markdown",
   "id": "b47a1f9e-a57f-4938-a650-73c24744d2b2",
   "metadata": {},
   "source": [
    "## **Вправа 20**\n",
    "Згенерувати вектор із n  випадкових елементів, що лежать в інтервалі (0,1). Замінити максимальний елемент на 0."
   ]
  },
  {
   "cell_type": "code",
   "execution_count": 53,
   "id": "ac8e48e0-e152-49ef-a3f1-115856138b2a",
   "metadata": {},
   "outputs": [],
   "source": [
    "def task_20():\n",
    "    n = int(input(\"Введіть значення: \"))\n",
    "    a = time.time()\n",
    "    \n",
    "    vector = np.random.random(n)\n",
    "    print(\"Початковий вектор:\", vector)\n",
    "\n",
    "    max_index = np.argmax(vector)  \n",
    "    vector[max_index] = 0        \n",
    "\n",
    "    print(\"Змінений вектор:\", vector)\n",
    "    b = time.time()\n",
    "    print(\"Час виконання (numpy): \"+str(b-a)+\"sec\")"
   ]
  },
  {
   "cell_type": "code",
   "execution_count": 54,
   "id": "4e0cc719-b4e3-4fff-975e-f413b9413499",
   "metadata": {},
   "outputs": [
    {
     "name": "stdin",
     "output_type": "stream",
     "text": [
      "Введіть значення:  5\n"
     ]
    },
    {
     "name": "stdout",
     "output_type": "stream",
     "text": [
      "Початковий вектор: [0.64127836 0.80351521 0.52653556 0.00347658 0.98337379]\n",
      "Змінений вектор: [0.64127836 0.80351521 0.52653556 0.00347658 0.        ]\n",
      "Час виконання (numpy): 0.012825489044189453sec\n"
     ]
    }
   ],
   "source": [
    "task_20()"
   ]
  },
  {
   "cell_type": "code",
   "execution_count": 47,
   "id": "e49f62f4-608c-4226-a01d-22dad55bd6bc",
   "metadata": {},
   "outputs": [],
   "source": [
    "def task_20_2():\n",
    "    n = int(input(\"Введіть значення: \"))\n",
    "    a = time.time()\n",
    "\n",
    "    vector = []  \n",
    "    for i in range(n):   \n",
    "        vector.append(random.random())\n",
    "        \n",
    "    max_el = max(vector) \n",
    "    print(\"Початковий вектор:\", vector)\n",
    "        \n",
    "    for i in range(len(vector)):   \n",
    "        if vector[i] == max_el:  \n",
    "            vector[i] = 0         \n",
    "\n",
    "    print(\"Змінений вектор:\", vector)\n",
    "    b = time.time()\n",
    "    print(\"Час виконання (ітеративні конструкції): \"+str(b-a)+\"sec\")"
   ]
  },
  {
   "cell_type": "code",
   "execution_count": 48,
   "id": "f4951b55-f082-40c5-8131-f9863f8bdf7e",
   "metadata": {},
   "outputs": [
    {
     "name": "stdin",
     "output_type": "stream",
     "text": [
      "Введіть значення:  5\n"
     ]
    },
    {
     "name": "stdout",
     "output_type": "stream",
     "text": [
      "Початковий вектор: [0.6064909172659353, 0.4072028851233509, 0.3006721614762252, 0.4363132760050078, 0.01064423364927336]\n",
      "Змінений вектор: [0, 0.4072028851233509, 0.3006721614762252, 0.4363132760050078, 0.01064423364927336]\n",
      "Час виконання (ітеративні конструкції): 0.001026153564453125sec\n"
     ]
    }
   ],
   "source": [
    "task_20_2()"
   ]
  },
  {
   "attachments": {},
   "cell_type": "markdown",
   "id": "5093cf2c-8b8e-4497-a878-4275740008fa",
   "metadata": {},
   "source": [
    "# Task 2\n",
    "    Розв’язати систему алгебраїчних рівнянь за допомогою формул Крамера і виконати перевірку за допомогою: \n",
    "    a) матричного множення; \n",
    "    b) оберненої матриці; \n",
    "    c) функції numpy.linalg.solve(). \n",
    "    Порівняти всі рішення за допомогою функції numpy.allclose(). \n",
    "\n",
    "$$\n",
    "\\begin{cases} \n",
    "2x_1 - 6x_2 + 2x_3 + 2x_4 = 12 \\\\ \n",
    "x_1 + 3x_2 + 5x_3 + 7x_4 = 12 \\\\ \n",
    "3x_1 + 5x_2 + 7x_3 + x_4 = 0 \\\\ \n",
    "5x_1 + 7x_2 + x_3 + 3x_4 = 4 \n",
    "\\end{cases}\n",
    "$$\n",
    "\n",
    "\n",
    "$$\n",
    "\\Delta = \\begin{vmatrix}\n",
    "2 & -6 & 2 & 2 \\\\\n",
    "1 & 3 & 5 & 7 \\\\\n",
    "3 & 5 & 7 & 1 \\\\\n",
    "5 & 7 & 1 & 3\n",
    "\\end{vmatrix}\n",
    "$$                                     \n",
    "\n",
    "$$\n",
    "x_1 = \\frac{\\Delta_1}{\\Delta}, \\quad\n",
    "x_2 = \\frac{\\Delta_2}{\\Delta}, \\quad\n",
    "x_3 = \\frac{\\Delta_3}{\\Delta}, \\quad\n",
    "x_4 = \\frac{\\Delta_4}{\\Delta}\n",
    "$$\n",
    "\n",
    "$$\n",
    "x_i = \\frac{\\Delta_i}{\\Delta}, \\quad i = 1,2,3,4\n",
    "$$\n",
    "\n",
    "де $\\Delta_i$ - визначник матриці, отриманої заміною $i$-го стовпця на стовпець вільних членів."
   ]
  },
  {
   "cell_type": "code",
   "execution_count": 23,
   "id": "c0b90270-7be4-4685-8f26-31ca5f7af763",
   "metadata": {},
   "outputs": [
    {
     "name": "stdout",
     "output_type": "stream",
     "text": [
      "Matrix A:\n",
      " [[ 2 -6  2  2]\n",
      " [ 1  3  5  7]\n",
      " [ 3  5  7  1]\n",
      " [ 5  7  1  3]]\n",
      "Column of free members:\n",
      " [12 12  0  4]\n",
      "\n",
      "Solution by Cramer's method:\n",
      "det(A) = -2048.00\n",
      "det(A1) = -2048.00\n",
      "det(A2) = 2048.00\n",
      "det(A3) = 0.00\n",
      "det(A4) = -4096.00\n",
      "\n",
      "Answers:\n",
      "x₁ = -2048.00/-2048.00 = 1.00\n",
      "x₂ = 2048.00/-2048.00 = -1.00\n",
      "x₃ = 0.00/-2048.00 = -0.00\n",
      "x₄ = -4096.00/-2048.00 = 2.00\n",
      "x = [ 1. -1. -0.  2.]\n"
     ]
    }
   ],
   "source": [
    "import random\n",
    "A = np.array([[2, -6, 2, 2],\n",
    "              [1, 3, 5, 7],\n",
    "              [3, 5, 7, 1],\n",
    "              [5, 7, 1, 3]])\n",
    "\n",
    "B = np.array([12, 12, 0, 4])\n",
    "\n",
    "print(\"Matrix A:\\n\", A)\n",
    "print(\"Column of free members:\\n\", B)\n",
    "print(\"\\nSolution by Cramer's method:\")\n",
    "\n",
    "det_A = np.linalg.det(A)\n",
    "print(f\"det(A) = {det_A:.2f}\")\n",
    "\n",
    "A_1 = A.copy()\n",
    "A_1[:, 0] = B\n",
    "det_A_1 = np.linalg.det(A_1)\n",
    "print(f\"det(A1) = {det_A_1:.2f}\")\n",
    "A_2 = A.copy()\n",
    "A_2[:, 1] = B\n",
    "det_A_2 = np.linalg.det(A_2)\n",
    "print(f\"det(A2) = {det_A_2:.2f}\")\n",
    "A_3 = A.copy()\n",
    "A_3[:, 2] = B\n",
    "det_A_3 = np.linalg.det(A_3)\n",
    "print(f\"det(A3) = {det_A_3:.2f}\")\n",
    "A_4 = A.copy()\n",
    "A_4[:, 3] = B\n",
    "det_A_4 = np.linalg.det(A_4)\n",
    "print(f\"det(A4) = {det_A_4:.2f}\")\n",
    "\n",
    "x_1 = det_A_1 / det_A\n",
    "x_2 = det_A_2 / det_A\n",
    "x_3 = det_A_3 / det_A\n",
    "x_4 = det_A_4 / det_A\n",
    "\n",
    "x_Cramer = np.array([x_1, x_2, x_3, x_4])\n",
    "x_Cramer_f = np.round(x_Cramer, 2)\n",
    "print(f\"\\nAnswers:\")\n",
    "print(f\"x₁ = {det_A_1:.2f}/{det_A:.2f} = {x_1:.2f}\")\n",
    "print(f\"x₂ = {det_A_2:.2f}/{det_A:.2f} = {x_2:.2f}\")\n",
    "print(f\"x₃ = {det_A_3:.2f}/{det_A:.2f} = {x_3:.2f}\")\n",
    "print(f\"x₄ = {det_A_4:.2f}/{det_A:.2f} = {x_4:.2f}\")\n",
    "print(f\"x = {x_Cramer_f}\")"
   ]
  },
  {
   "cell_type": "code",
   "execution_count": 25,
   "id": "c1906226-3723-4cf4-aa9e-fa527e1a3053",
   "metadata": {},
   "outputs": [
    {
     "name": "stdout",
     "output_type": "stream",
     "text": [
      "Matrix multiplication\n",
      "Initial B:\n",
      " [12 12  0  4]\n",
      "Check:\n",
      " [12. 12.  0.  4.]\n"
     ]
    }
   ],
   "source": [
    "print(\"Matrix multiplication\")\n",
    "\n",
    "verification = A @ x_Cramer_f\n",
    "print(f\"Initial B:\\n\", B)\n",
    "print(f\"Check:\\n {verification}\")"
   ]
  },
  {
   "cell_type": "code",
   "execution_count": 29,
   "id": "caea8295-5b63-4305-9d52-710fac7b18f1",
   "metadata": {},
   "outputs": [
    {
     "name": "stdout",
     "output_type": "stream",
     "text": [
      "Inverse matrix\n",
      "Inverse matrix A^-1\n",
      "\n",
      "[[ 0.1406 -0.1094  0.0156  0.1562]\n",
      " [-0.1094  0.0156  0.0156  0.0312]\n",
      " [ 0.0156  0.0156  0.1406 -0.0938]\n",
      " [ 0.0156  0.1406 -0.1094  0.0313]]\n",
      "\n",
      "Check - A^-1 * B: \n",
      "[ 1. -1. -0.  2.]\n"
     ]
    }
   ],
   "source": [
    "print(\"Inverse matrix\")\n",
    "\n",
    "A_inv = np.linalg.inv(A)\n",
    "x_inv = A_inv @ B\n",
    "print(f\"Inverse matrix A^-1\\n\")\n",
    "print(np.round(A_inv, 4))\n",
    "print(f\"\\nCheck - A^-1 * B: \")\n",
    "print(np.round(x_inv, 4))"
   ]
  },
  {
   "cell_type": "code",
   "execution_count": 31,
   "id": "3df80b93-6a25-4f63-a1e6-d6075a795893",
   "metadata": {},
   "outputs": [
    {
     "name": "stdout",
     "output_type": "stream",
     "text": [
      "Function numpy.linalg.solve\n",
      "[ 1. -1. -0.  2.]\n"
     ]
    }
   ],
   "source": [
    "print(\"Function numpy.linalg.solve\")\n",
    "\n",
    "x = np.linalg.solve(A, B)\n",
    "print(np.round(x, 4))"
   ]
  },
  {
   "cell_type": "code",
   "execution_count": 32,
   "id": "6804e5b9-e9d6-4e98-9119-46782fd0f81f",
   "metadata": {},
   "outputs": [
    {
     "name": "stdout",
     "output_type": "stream",
     "text": [
      "Comparasion of solutions with numpy.allclose(): \n",
      "Cramer's method and Inverse matrix: True\n",
      "Cramer's method and function linalg.solve: True\n",
      "Inverse matrix and function linalg.solve: True\n"
     ]
    }
   ],
   "source": [
    "print(\"Comparasion of solutions with numpy.allclose(): \")\n",
    "print(f\"Cramer's method and Inverse matrix: {np.allclose(x_Cramer_f, x_inv)}\")\n",
    "print(f\"Cramer's method and function linalg.solve: {np.allclose(x_Cramer_f, x)}\")\n",
    "print(f\"Inverse matrix and function linalg.solve: {np.allclose(x_inv, x)}\")"
   ]
  },
  {
   "cell_type": "markdown",
   "id": "6e69fa43-b5f5-41fb-a163-0d12937744c8",
   "metadata": {},
   "source": [
    "# Task 3\n",
    "    Обчислити значення матричного виразу  \n",
    "    а) з використанням універсальних функцій бібліотеки NumPy. \n",
    "    b) за допомогою ітеративних конструкцій (з використанням циклів, спискових включень тощо). \n",
    "    с) для обох випадків підрахувати час виконання скрипту та зробити висновок. \n",
    "    Порівняти всі рішення за допомогою функції numpy.allclose().\n",
    " $ 3(A+B)(AB-2A) $, \n",
    "$ A = \\begin{pmatrix}\n",
    "2 & 1 & 3 \\\\\n",
    "1 & -2 & 0 \\\\\n",
    "4 & -3 & 0\n",
    "\\end{pmatrix} $, \n",
    "$ B = \\begin{pmatrix}\n",
    "22 & -14 & 3 \\\\\n",
    "6 & -7 & 0 \\\\\n",
    "11 & 3 & 15\n",
    "\\end{pmatrix} $"
   ]
  },
  {
   "cell_type": "code",
   "execution_count": 38,
   "id": "a7886502-3b73-49a6-9c29-5d2a1884931f",
   "metadata": {},
   "outputs": [
    {
     "name": "stdout",
     "output_type": "stream",
     "text": [
      "Matrix A:\n",
      " [[ 2  1  3]\n",
      " [ 1 -2  0]\n",
      " [ 4 -3  0]]\n",
      "Matrix B:\n",
      " [[22 14  3]\n",
      " [ 6 -7  0]\n",
      " [11  3 15]]\n",
      "Result:\n",
      " [[7164 4950 3591]\n",
      " [1443 -276  864]\n",
      " [6345 4995 2565]]\n",
      "Час виконання (numpy): 0.0sec\n"
     ]
    }
   ],
   "source": [
    "a = time.time()\n",
    "A = np.array([[2, 1, 3],\n",
    "              [1, -2, 0],\n",
    "              [4, -3, 0]])\n",
    "\n",
    "B = np.array([[22, 14, 3],\n",
    "              [6, -7, 0],\n",
    "              [11, 3, 15]])\n",
    "\n",
    "print(\"Matrix A:\\n\", A)\n",
    "print(\"Matrix B:\\n\", B)\n",
    "\n",
    "calculation = 3 * (A + B) @ (A @ B - 2 * A)\n",
    "print(\"Result:\\n\", calculation)\n",
    "b = time.time()\n",
    "print(\"Час виконання (numpy): \"+str(b-a)+\"sec\")\n",
    "\n"
   ]
  },
  {
   "cell_type": "code",
   "execution_count": 40,
   "id": "74948cee-58de-4af4-977f-80be3a909057",
   "metadata": {},
   "outputs": [
    {
     "name": "stdout",
     "output_type": "stream",
     "text": [
      "Result:\n",
      "\n",
      "[7164, 4950, 3591]\n",
      "[1443, -276, 864]\n",
      "[6345, 4995, 2565]\n",
      "Час виконання (ітеративні конструкції): 0.0010004043579101562sec\n"
     ]
    }
   ],
   "source": [
    "A = [[2, 1, 3],\n",
    "     [1, -2, 0],\n",
    "     [4, -3, 0]]\n",
    "\n",
    "B = [[22, 14, 3],\n",
    "     [6, -7, 0],\n",
    "     [11, 3, 15]]\n",
    "\n",
    "a = time.time()\n",
    "n = 3\n",
    "res = [[0] * 3 for _ in range(3)]\n",
    "\n",
    "for i in range(3):\n",
    "    for j in range(3):\n",
    "        total = 0\n",
    "        for k in range(3):\n",
    "            a_plus_b = A[i][k] + B[i][k]\n",
    "            ab = sum(A[k][m] * B[m][j] for m in range(3))\n",
    "            ab_minus_2a = ab - 2 * A[k][j]\n",
    "            total += a_plus_b * ab_minus_2a\n",
    "        res[i][j] = 3 * total\n",
    "\n",
    "print(\"Result:\\n\")\n",
    "for row in res:\n",
    "    print(row)\n",
    "    \n",
    "b = time.time()\n",
    "print(\"Час виконання (ітеративні конструкції): \"+str(b-a)+\"sec\")"
   ]
  },
  {
   "cell_type": "code",
   "execution_count": 41,
   "id": "78a06b1e-6f95-4140-bd17-f13884ebe911",
   "metadata": {},
   "outputs": [
    {
     "name": "stdout",
     "output_type": "stream",
     "text": [
      "Comparasion of solutions with numpy.allclose(): \n",
      "Using Numpy and loops: True\n"
     ]
    }
   ],
   "source": [
    "print(\"Comparasion of solutions with numpy.allclose(): \")\n",
    "print(f\"Using Numpy and loops: {np.allclose(calculation, res)}\")"
   ]
  },
  {
   "cell_type": "code",
   "execution_count": null,
   "id": "f82a0b72-4448-4e63-bf01-e128d1df57c7",
   "metadata": {},
   "outputs": [],
   "source": []
  }
 ],
 "metadata": {
  "kernelspec": {
   "display_name": "Python 3 (ipykernel)",
   "language": "python",
   "name": "python3"
  },
  "language_info": {
   "codemirror_mode": {
    "name": "ipython",
    "version": 3
   },
   "file_extension": ".py",
   "mimetype": "text/x-python",
   "name": "python",
   "nbconvert_exporter": "python",
   "pygments_lexer": "ipython3",
   "version": "3.12.1"
  }
 },
 "nbformat": 4,
 "nbformat_minor": 5
}
